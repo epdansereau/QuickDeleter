{
 "cells": [
  {
   "cell_type": "markdown",
   "metadata": {},
   "source": [
    "# Images deleter"
   ]
  },
  {
   "cell_type": "code",
   "execution_count": 1,
   "metadata": {},
   "outputs": [],
   "source": [
    "import os\n",
    "from IPython.core.display import display, HTML\n",
    "import uuid"
   ]
  },
  {
   "cell_type": "markdown",
   "metadata": {},
   "source": [
    "This UI displays images from a folder, in a Jupyter Notebook, and allows to delete images quickly by clicking on them.\n",
    "\n",
    "It has only been tested on MacOS so far.\n",
    "\n",
    "To use, run all cells then call images_deleter(\"your/folder/path/\")"
   ]
  },
  {
   "cell_type": "code",
   "execution_count": 2,
   "metadata": {},
   "outputs": [
    {
     "data": {
      "application/javascript": [
       "// window.executePython() allows to call python code in javascript\n",
       "window.executePython = function(python) {\n",
       "    return new Promise((resolve, reject) => {\n",
       "        var callbacks = {\n",
       "            iopub: {\n",
       "                output: (data) => resolve(data.content.text.trim())\n",
       "            }\n",
       "        };\n",
       "        Jupyter.notebook.kernel.execute(`print(${python})`, callbacks);    \n",
       "    });\n",
       "}\n",
       "\n",
       "// Example:\n",
       "// window.executePython(\"'This is ' + 'python'\")\n",
       "//    .then(result => console.log(result));\n"
      ],
      "text/plain": [
       "<IPython.core.display.Javascript object>"
      ]
     },
     "metadata": {},
     "output_type": "display_data"
    }
   ],
   "source": [
    "%%javascript\n",
    "// window.executePython() allows to call python code in javascript\n",
    "window.executePython = function(python) {\n",
    "    return new Promise((resolve, reject) => {\n",
    "        var callbacks = {\n",
    "            iopub: {\n",
    "                output: (data) => resolve(data.content.text.trim())\n",
    "            }\n",
    "        };\n",
    "        Jupyter.notebook.kernel.execute(`print(${python})`, callbacks);    \n",
    "    });\n",
    "}\n",
    "\n",
    "// Example:\n",
    "// window.executePython(\"'This is ' + 'python'\")\n",
    "//    .then(result => console.log(result));"
   ]
  },
  {
   "cell_type": "code",
   "execution_count": 18,
   "metadata": {},
   "outputs": [],
   "source": [
    "def delete_target(folder_relative_path,target):\n",
    "    '''Called by images_deleter()'''\n",
    "    path = os.path.join(folder_relative_path,target)\n",
    "    os.remove(path)\n",
    "    return path + ' deleted'\n",
    "\n",
    "def images_deleter(folder_relative_path, perPage = 49, perRow = 7):\n",
    "    '''Displays images in a folder. Click on an image to delete it\n",
    "    folder_relative_path : path of format folder/folder/\n",
    "    PerPage : Number of images displayed at the same time\n",
    "    perRow : Number of images per row.\n",
    "    '''\n",
    "    files = os.listdir(folder_relative_path)\n",
    "    # Unique Id to make sure the right element is selected\n",
    "    galleryId = 'gallery' + str(uuid.uuid4())\n",
    "    \n",
    "    buttons = \"<div style='display:flex;justify-content:space-between'><button onclick = 'previous()'>« PREVIOUS</button><button onclick = 'next()'>NEXT »</button></div>\"\n",
    "    html = '''<style>.imgItem:hover {{transform: scale(1.5)}}</style>\n",
    "        <div>Click on an image to delete it</div>\n",
    "        {buttons}\n",
    "        <div id = '{galleryId}' style='display:flex;flex-wrap: wrap'></div>\n",
    "        {buttons}'''.format(galleryId = galleryId, buttons = buttons)\n",
    "    script = '''<script>var images = {files}.map(image => `\n",
    "        <div style='width:${{100 / {perRow} }}%'>\n",
    "            <img src='{path}${{escape(image)}}' class = 'imgItem' alt = '${{image}}'/>\n",
    "        </div>`);\n",
    "        \n",
    "        // Display the image gallery :\n",
    "        function showPage(page = 0){{\n",
    "            var firstImg = page * {perPage};\n",
    "            if (firstImg >= images.length){{\n",
    "                return 0\n",
    "            }}\n",
    "            document.getElementById('{galleryId}').innerHTML = images.slice(firstImg,Math.min(firstImg + {perPage}, images.length)).join(\"\");\n",
    "            return 1\n",
    "        }}\n",
    "        showPage();\n",
    "            \n",
    "        // Delete image on click :\n",
    "        document.getElementById('{galleryId}').addEventListener('click',(e) => {{\n",
    "            if(e.target.classList.contains('imgItem')){{\n",
    "                var pythonCode = `delete_target('{path}','${{e.target.alt}}')`;\n",
    "                window.executePython(pythonCode)\n",
    "                e.target.remove();\n",
    "            }}\n",
    "        }});\n",
    "        \n",
    "        // Page navigation:\n",
    "        var currentPage = 0;\n",
    "        function next(){{\n",
    "            if (showPage(currentPage + 1)){{\n",
    "                currentPage++;\n",
    "            }}\n",
    "        }}\n",
    "        function previous(){{\n",
    "            if (currentPage > 0){{\n",
    "                currentPage--;\n",
    "                showPage(currentPage);\n",
    "            }}\n",
    "        }}</script>'''.format(galleryId = galleryId, files = files, perPage = perPage, perRow = perRow, path = folder_relative_path)\n",
    "    display(HTML(html + script))"
   ]
  },
  {
   "cell_type": "code",
   "execution_count": 19,
   "metadata": {},
   "outputs": [
    {
     "data": {
      "text/html": [
       "<style>.imgItem:hover {transform: scale(1.5)}</style>\n",
       "        <div>Click on an image to delete it</div>\n",
       "        <div style='display:flex;justify-content:space-between'><button onclick = 'previous()'>« PREVIOUS</button><button onclick = 'next()'>NEXT »</button></div>\n",
       "        <div id = 'galleryad2acb82-439f-4169-bfeb-474dd7177c81' style='display:flex;flex-wrap: wrap'></div>\n",
       "        <div style='display:flex;justify-content:space-between'><button onclick = 'previous()'>« PREVIOUS</button><button onclick = 'next()'>NEXT »</button></div><script>var images = ['151. young-girl-enjoying-moment-and-looking-over-the-city-of-san-francisco_free_stock_photos_picjumbo_hnck3432-1080x720.jpg', '222. maxresdefault.jpg', '123. npfall_mtrainier3.jpg', '100. tour-eiffel.jpg', '81. bir068-00056-e1535574664152.jpg', '188. 5b7dedb7fc7e93f9558b462a.jpg', '169. 407353652.jpeg', '282. kakki_dam_in_pathanamthitta_1611.jpg', '242. _-1_03_11082.jpg', '264. 4a1b49d57710617189718309b4b01ca5fb057704_highlighted-pink-hair.jpg', '108. photo_editor_1800x1012-1.jpg', '196. desert_1024.jpg', '247. features-crop-img2-min.jpg', '31. 9667872-3x2-700x467.jpg', '270. photo-centre-high-quality-1.jpg', '203. photo-fixes.jpg', '201. hqdefault.jpg', '59. pexels-photo-257360.jpeg', '121. lawachhara-national-park-1024x683.jpg', '210. examples_of_passport_photos.png', '19. young-woman-traveler-enjoying-a-view-on-high-tatras-mountains_free_stock_photos_picjumbo_hnck7618-1080x720.jpg', '114. thumb_3-51395883.jpg', '146. photo-1439894671367-1904e126d8f1.jpeg', '61. havoi3j5gbf9fx3namnx.jpg', '29. mike_wilkinson_0.jpg', '147. cadre-interne-2.jpg', '237. 2.jpg', '126. hobby-lobby-challenge-today-tease-180228_1d81a7a9000e9b630a328f0134447f57.fit-760w.jpg', '187. hero.jpg', '34. cartoonizer-feature-image-1.jpg', '229. ipad-photo-editing-hero.jpg', '127. pexels-photo-556416.jpeg', '293. little-planet-photos-4.jpg', '54. microsoft-windows-xp-bliss-wallpaper-charles-orear-1.jpg', '195. voyage-photo-lofoten-minuit-jml-74.jpg', '8. 512137691.jpg', '45. private-photos-iphone-x-hero.jpg', '62. canva-pink-petaled-flowers-closeup-photo-madgwm67djw.jpg', '110. sample2-objects.png', '296. dxhl8xawaaec52s.jpg', '289. remove-object-content-aware_297x176.jpg', '112. ?format=2500w.jpg', '91. alien-maternity-photo-shoot.jpg', '73. photo-1421809313281-48f03fa45e9f.jpeg', '208. 738098587.web', '261. visuel_pp_anglais.png', '265. pp21_magcover_large.jpg', '233. f9d5215f-a73f-401b-98e1-5533a5e0f79b.jpg', '206. couv3.jpg', '292. 20180117-mayon-volcano-csiii-1.jpg', '252. customize_image_captions.png', '202. professional-animated-photos.jpg', '220. sliderthumb3.jpg', '78. total-solar-eclipse.jpg', '189. 1052828.jpg', '12. pexels-photo-210628.jpeg', '158. soldes-photo-2018-1.jpg', '276. b9715097985z.1_20180318113229_000+gjgatoqve.1-0.jpg', '28. photo-1.jpg', '60. farrah-abraham-weight-loss-lollipop.png', '271. 5a1718d3b1b09d0001925cf2_button-photobook.png', '122. spring-grass-field-with-two-daisies-and-a-lady-bug-stock-photo_csp3349442.jpg', '97. garden%20view1.jpg', '164. photo-wallpaper-32.jpg', '130. photo-time-lapse-from-091018_ozonesonde-rises-over-the-south-pole-from-the-amundsen-scott-south-pole-station-robert-schwarz-university-of-minnesota-700x450-landscape.jpg', '5. pexels-photo-289237.jpeg', '255. preview16.jpg', '173. contrast_01021dbc22b5f211618e50893253f76a40.jpg', '7. hands-forming-a-heart-shape-with-sunset-silhouette-picture-id636379014?k=6&m=636379014&s=612x612&w=0&h=tnyrf_o_nvt15n4mmjorirvz7lk4w1q1c7rsfrvmqka=.jpg', '134. 9490028-3x2-700x467.jpg', '244. stock-photo-111983049-1500x1000.jpg', '55. googlephotos-art.jpg', '23. 1036819995.jpg', '275. 100-photo-collage-maker-top.png', '56. ba-01s3.jpg', '224. cape-town-best-photo-locations-14.jpg', '79. 201506-profile-photo-couples-cover.jpg', '96. action_photo_of_nasal_spray_on_a_black_background.jpg', '181. half-underwater-gopro-photo.jpg', '139. summerfield336672_1280.jpg', '246. god-of-war-photo-mode-6-1525880332644_1280w.jpg', '272. 1.jpg', '40. stock-photo-133673159-1500x1000.jpg', '212. photo_gallery_view.jpg', '152. wall-wallpaper-concrete-colored-painted-textured-concept_53876-31799.jpg', '129. photo-1486989813814-da4a10a6fc7d?ixlib=rb-1.2.1&w=1000&q=80.jpg', '30. module-4.jpg', '93. muse_december16th.jpg', '103. summer_2018_white_house_intern_class.jpg', '141. contribution-au-concours-photo-chats-d-ici-et-d-ailleurs-maria560-39538775-1199-453.jpg', '137. 6-photo-by-nadya-kulagina.jpg', '190. image1.png', '47. retro.gif', '251. comparison-city-main-art.jpg', '13. walking-on-the-railroad-tracks.jpg', '132. 698708fb-39ce-4dd7-a84a-511c190613c0.jpeg', '280. shopbyoccasion-wedding.jpg', '106. connect2.png', '87. img_0165.jpg', '17. stock-photo-159533631-1500x1000.jpg', '209. pexels-photo-248797.jpeg', '186. wedding-photo-frame-with-roses_24972-235.jpg', '232. pexels-photo-1363876.jpeg', '57. img_4252x-1542811804-4088.jpg', '285. 360_galaxy.jpg', '75. photo.jpg', '6. photo-1531804055935-76f44d7c3621?ixlib=rb-1.2.1&ixid=eyjhchbfawqiojeymdd9&auto=format&fit=crop&w=1000&q=80.jpg', '51. dogphotosfeat-800x420.jpg', '254. gratisography-black-white-trees-winter-thumbnail-small.jpg', '46. main-900-maria560-39538713-900-589.jpg', '32. photo-1531770905334-3776f5b54831?ixlib=rb-1.2.1&ixid=eyjhchbfawqiojeymdd9&w=1000&q=80.jpg', '136. hviofv7y64ywr2sk1ju5.jpg', '215. photo-effects2-before.png', '35. pexels-photo-255441.jpeg', '11. photo-1483691278019-cb7253bee49f?ixlib=rb-1.2.1&ixid=eyjhchbfawqiojeymdd9&auto=format&fit=crop&w=1000&q=80.jpg', '98. 27662-41672-180917-iphonexsphoto-l.jpg', '94. katrina_sunset.jpeg', '185. osx-elcapitan-photos-icon.png', '140. p8-segments-learn2-433x272.jpg', '287. lik-usa-peter-liks-phantom.jpg', '300. lomo.jpg', '16. media_file_2106.jpg', '160. 652a7adb1b_98148_01-intro-773.jpg', '250. photo-1518568814500-bf0f8d125f46?ixlib=rb-1.2.1&auto=format&fit=crop&w=1000&q=80.jpg', '243. stock_horses_in_corral_composite.png', '71. 1-tap-enhance_comparison_chart0cd39fa2358c48f674db97b65327666e.jpg', '299. photo-1540206395-68808572332f?ixlib=rb-1.2.1&w=1000&q=80.jpg', '48. sonam-kapoor-wedding-reception_542b0626-81ac-11e8-bd7f-aad8d1b78451.jpg', '143. cape-town-best-photo-locations.jpg', '4. pexels-photo-1024975.jpeg', '39. best-action-photos-2016-red-bull-illume-48-57f6150f74455__880.jpg', '184. p8-marquee-1440x660.jpg', '14. tajak+019.jpg', '298. fr-origines-01.jpg', '278. 2018060540-nr7m091z3ccpvqwxadnyubw5z9pnedizxybdxj1lgg.jpg', '161. features-crop-img4-min.jpg', '85. thumb_61558_media_image_2560x1620.jpg', '166. google-stitch-ai-photo-fail-big-picture-2018-01-23-01.jpg', '226. nyc_side_thumb.png', '149. 241499524130fw5qexzl6hvwmfunhcjf5crbk7aodv4py9v0vxaloobcngrtfo6pannofzxsy3iekdsszhuakij2txchw1sijspatgykbgq1ozdi.jpg', '42. 19431859261e12c5ba63da8f57b776ee.jpg', '257. photo-wallpaper_106336.jpg', '109. contrast_037429916fc5ab18b54bd1698bdc9fcb3c.jpg', '119. img_82250973.jpg', '37. 14988085294_49ef0b93f0_b.jpg', '66. photo-paysage-cuba-mer-turquoise.jpg', '205. stock-photo-selection-of-healthy-food-540997561.jpg', '207. man-spots-something-in-background-of-pretty-scene-photo.jpg', '193. balloons.jpg', '145. john-morris-birthday-100-getty.jpg', '198. paris-and-eiffel-tower-photo-spots-for-the-best-view-of-the-eiffel-tower-16.jpg', '295. pexels-photo-887349.jpeg', '225. chinacouple1403a.jpg', '77. 005_app_02232014ca_506--c873253683d58404e15e8cb8a2e0ea1a.jpg', '288. img_63351521.jpg', '176. 300315-173953-10877895-407529416089003-1913765811-n.jpg', '217. venice-italy-canal-grande-free-photo-1080x720.jpg', '64. pexels-photo-1-1.jpg', '286. hawaii-volcano-lava-aerial-sh-ps04-080507_hpembed_11x16_992.jpg', '170. 07d98ccbec32747f1a75d17341deeda2.jpg', '171. wildfire_05.jpg', '88. video-ps-1000x494.jpg', '167. leaf_0.jpg', '111. 00-photo-stack.jpg', '153. straightentitle.jpg', '120. this-is-the-photo-which-sparked-the-fight-in-which-carl-gregory-was-murdered.jpg', '84. selection-concours-photos---nery-3.jpg', '63. medium_square.jpg', '41. silouhette.jpg', '18. photo-1509070016581-915335454d19?ixlib=rb-1.2.1&w=1000&q=80.jpg', '156. _e82039d4-84d4-11e8-b9ce-1e6263d714a8.jpg', '58. photo-culinaire-2018_article_list_highlight_s_salon_de_la_photo_enm.jpg', '163. andre-thomas-weller-333032-800x1200.jpg', '235. kumsheen-rafting-resort-(25).jpg', '159. b9716463829z.1_20180728074606_000%2bgiubou732.2-0.jpg', '162. 5kw_1r.jpeg', '263. offrir-shooting-photo-new-york-en-francais-11.jpg', '221. d5a7da33852a8c16a716b761fa51db52add8eb11_picmonkey-desktop-mobile-hero-foreground.jpg', '9. kave+310.jpg', '179. beach-door-759.jpg', '174. photo-ecosse-46.jpg', '138. 636731765629734560-gettyimages-627303590.jpg', '245. laptopsphotovideoediting-2x1-2668.jpg', '281. photo.-camille-gottlieb-fille-stephanie-monaco-pose-topless-pendant-ses-vacances_square500x500.png', '248. _104506180_queuevideo.jpg', '249. adobe-photoshop-elements-logo-for-photo-editing-software.jpg', '70. romantic-wedding-photo-browne-photography_0.jpg', '33. ppe.png', '155. photo-collage-floral.png', '182. _104348756_stephencheatley-electricblackpool.jpg', '269. pdj103-228_2017_133300_hd.jpg', '284. photo-gallery-8.jpg', '115. punchbowl-falls.jpg', '241. photo-centre-wall-decor-xl-2.jpg', '69. photo_mode_cutscene_hellblade.gif', '15. balloon-2331488_960_720.jpg', '80. bamboo.jpg', '168. stock-photo-fairy-path-140700811-1600px-1500x1000.jpg', '86. autumn1072827.jpg', '175. thumb_68299_default_news_size_5.jpeg', '38. senior-photo-ideas-108.jpg', '165. kyle-loftus-592129-unsplash_1524518268.jpg', '65. au-lever-du-jour-en-maurienne-(savoie)-photo-prise-par-gilbert-edmond-1516435383.jpg', '83. how-to-set-photo-watch-face-apple-watch-lead.jpg', '283. kk5k1tcchzz-glibymxitlpuga53if5v4lhydly1a-wo6pedoyqju36epxtjuouvvw.jpg', '131. livre-photo-voyage_structure.jpg', '102. 8418786-3x2-700x467.jpg', '214. foto-acrylglas-mini.jpg', '95. f8bc126d97c41b8b165d0d.jpg', '104. graeme-guy_outsourcing-seatbelt-checks_00000319.jpg', '297. waves_1024.jpg', '52. narutos_selfie_344_3543114b.jpg', '92. icloud-photos-library-hero-01.jpg', '89. 26043257-b82c-419b-b37b-d8fb59fca4d2-kust.jpg', '133. c05662472_1750x1285.jpg', '74. the-glace-gel_1-940x572.jpg', '105. what-is-huji-app.jpg', '150. bw_lead_photo.jpeg', '53. photographer-ted-hesser-viral-eclipse-photo-of-the-century.jpg', '128. photos_96dp.png', '228. ahr0cdovl3d3dy5saxzlc2npzw5jzs5jb20vaw1hz2vzl2kvmdawlzewmi8xnjgvb3jpz2luywwvbmlrb24tc21hbgwtd29ybgqtms1tzxrhcg9jexj0dxmtc3vicxvhzhj1bgzpzxiuanbn.jpg', '124. 394230.jpg', '99. photo-1516589178581-6cd7833ae3b2?ixlib=rb-1.2.1&w=1000&q=80.jpg', '197. north-korea-explosion-01-rt-jef-180524_hpembed_3x2_992.jpg', '200. christmas-lights-defocused-background-bokeh-gold-blue-picture-id613518332?k=6&m=613518332&s=612x612&w=0&h=own5mdgjxjnhfd0yuyed1up3mqshenhfml9f-dqydyw=.jpg', '240. diwali647_103016040807.jpg', '113. alone-with-his-thoughts-1080x720.jpg', '223. gr1989.0516.1411.jpg', '266. http%3a%2f%2fi.huffpost.com%2fgen%2f1459372%2fimages%2fn-saturne-628x314.jpg', '262. p1-leremie.final-web_0.jpg', '192. google-photos-ios-guide-2.jpg', '172. collage-world.jpg', '234. cover-r4x3w1000-5a815739b685b-kbo-2102hz84-and-kbo-2102he85.jpg', '238. idp.jpg', '231. road1072823.jpg', '290. new-photo-from-aquaman-shows-king-orm-epically-riding-a-tylosaur-sea-creature-social.jpg', '82. image1_-_stsci-h-p1835a-m-2000x1768.png', '1. mathias-poy-denmark.jpg', '125. swimming-pool-free-photo-1080x720.jpg', '194. ananthapura_lake_temple_kasaragod_1609.jpg', '180. 9c7c5c38fedeba467b72ec03e2c9f137.jpg', '204. sliderthumb2.jpg', '72. photo-ipad-120920181118--small.jpg', '259. 648931-636506741487811889-16x9.jpg', '183. 23cfebac-fea2-4884-b228-9251206764f6-shipphoto.jpg', '3. pexels-photo-207962.jpeg', '274. photo-books-800x472-sizes-8f38f88283fdbe0954edc601dcb84d0df9acada3a581cf25b822556451441de0.jpg', '213. gir-national-park-photo1.jpg', '277. pp_930x250_herobanner.png', '227. whistler-insider-best-insta-photos.jpg', '177. transport-the-soul-%c2%a9-brad-goldpaint.jpg', '148. _103598798_0d65bea6-ec55-4501-a38e-fd691ba8b621.jpg', '273. half-underwater-photo-gopro.jpg', '253. lawnmower-man.jpg', '216. guinaqwdb7gv4e50qgrf.jpg', '267. hdr-surreal.jpg', '199. photo-enhance-02.jpg', '50. stock-photo-136816065-1500x1000.jpg', '154. salon_plongee_2017_apnee_11.jpg', '90. ios12-ipad-iphone-x-take-photo-hero.jpg', '211. 87357.jpg', '26. blog_lunchtime_red_daisy_rain.jpg', '2. gir-national-park-photo2.jpg', '178. easset_upload_file53069_7961_e.jpg', '291. framed-photo-xmas18-cover.jpg', '260. screen8_mac_home.png', '118. enhance-dlx-feature-image-2-after.jpg', '101. stock-photo-125037925-1500x1000.jpg', '157. googlegorilla-topart-522585140.jpg', '43. pexels-photo-556667.jpeg', '27. pexels-photo.jpg', '219. easy_photo_editor.jpg', '10. avenue-2215317_960_720.jpg', '268. c52fc99b6fecac8e6bc20a8ccc83a7e1--photo-instagram-belles-photos.jpg', '279. 8254c3d488e6b24324c3ac2d3da376aa-violents-incendies-en-californie-la-photo-qui-fait-froid-dans-le-dos.jpg', '294. appli-photos-vacances.jpg', '218. star-trails-photography-tutorial-photo-editing1-1.jpg', '236. take-long-exposure-photos-your-iphone-ios-11.w1456.jpg', '107. best-free-photo-editing-software.jpg', '22. 00-taking-photos.jpg', '67. image-3.5ef142f065894e6bb1e906206cf0d407-780x585.jpg', '135. grad-portraits-1600x700.jpg', '21. 9670912-3x2-700x467.jpg', '68. demian-barrios_1.jpg', '239. ahr0cdovl21lzglhlmjlc3rvzm1py3jvlmnvbs9elzavnja0nda0l29yawdpbmfsl1njcmvlbi1tag90ltiwmtytmdgtmtctyxqtms4yos4xms1qts5wbmc=.jpg', '258. seance-photo-dengagement-cap-dagde-studiograou.jpg', '36. img_46552314.jpg', '49. ?q=60&url=https%3a%2f%2fs3.amazonaws.com%2fthe-drive-staging%2fmessage-editor%252f1528475104876-1-bmwi8.jpg.jpg', '20. stock-photo-114337435-1500x1000.jpg', '25. affinity-photo-161120170952.jpg', '142. romans-sur-isere-(drome)-photo-prise-par-corinne-maury-1537431866.jpg', '144. see-2880.jpg', '230. photo-vid-maker-og.jpg', '117. 180905-travel-photo-contest-010.jpg', '256. vote-2880.jpg', '44. telemmglpict000134986603_trans_nvbqzqnjv4bqovmytomwktwsxaq1sodrtwav_hl3cxrzkfqhge4m0ok.jpeg', '116. photo-101-double-day-19-copy-3.jpg', '76. pic5.gif'].map(image => `\n",
       "        <div style='width:${100 / 7 }%'>\n",
       "            <img src='downloads/photo/${escape(image)}' class = 'imgItem' alt = '${image}'/>\n",
       "        </div>`);\n",
       "        \n",
       "        // Display the image gallery :\n",
       "        function showPage(page = 0){\n",
       "            var firstImg = page * 49;\n",
       "            if (firstImg >= images.length){\n",
       "                return 0\n",
       "            }\n",
       "            document.getElementById('galleryad2acb82-439f-4169-bfeb-474dd7177c81').innerHTML = images.slice(firstImg,Math.min(firstImg + 49, images.length)).join(\"\");\n",
       "            return 1\n",
       "        }\n",
       "        showPage();\n",
       "            \n",
       "        // Delete image on click :\n",
       "        document.getElementById('galleryad2acb82-439f-4169-bfeb-474dd7177c81').addEventListener('click',(e) => {\n",
       "            if(e.target.classList.contains('imgItem')){\n",
       "                var pythonCode = `delete_target('downloads/photo/','${e.target.alt}')`;\n",
       "                window.executePython(pythonCode)\n",
       "                e.target.remove();\n",
       "            }\n",
       "        });\n",
       "        \n",
       "        // Page navigation:\n",
       "        var currentPage = 0;\n",
       "        function next(){\n",
       "            if (showPage(currentPage + 1)){\n",
       "                currentPage++;\n",
       "            }\n",
       "        }\n",
       "        function previous(){\n",
       "            if (currentPage > 0){\n",
       "                currentPage--;\n",
       "                showPage(currentPage);\n",
       "            }\n",
       "        }</script>"
      ],
      "text/plain": [
       "<IPython.core.display.HTML object>"
      ]
     },
     "metadata": {},
     "output_type": "display_data"
    }
   ],
   "source": [
    "images_deleter(\"downloads/photo/\")"
   ]
  },
  {
   "cell_type": "code",
   "execution_count": null,
   "metadata": {},
   "outputs": [],
   "source": []
  },
  {
   "cell_type": "code",
   "execution_count": null,
   "metadata": {},
   "outputs": [],
   "source": []
  }
 ],
 "metadata": {
  "kernelspec": {
   "display_name": "Python 3",
   "language": "python",
   "name": "python3"
  },
  "language_info": {
   "codemirror_mode": {
    "name": "ipython",
    "version": 3
   },
   "file_extension": ".py",
   "mimetype": "text/x-python",
   "name": "python",
   "nbconvert_exporter": "python",
   "pygments_lexer": "ipython3",
   "version": "3.7.1"
  }
 },
 "nbformat": 4,
 "nbformat_minor": 2
}
